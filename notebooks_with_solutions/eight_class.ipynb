{
 "cells": [
  {
   "cell_type": "markdown",
   "id": "729f0beb",
   "metadata": {},
   "source": [
    "# Optimizing over product states\n",
    "Now that we have checked that there are operators and states whose description is much cheaper than the normal description (remember that the $W$ state required bond dimension $2$ independently on the number of spins) we are ready to study the optimization of state directly described by Tensor network ansatz.\n",
    "The simple class of such states are product states, as we saw in the first lecture. \n",
    "\n",
    "We will try to find the ground state of a system with PBC in term of a product state. Thus we can use the invariance under tranaslation to argue that the product state will be of the form \n",
    " $$ |\\psi  \\rangle = \\otimes^N |\\phi \\rangle $$\n",
    " \n",
    " So let's start defining our initial state. We will define it as a random rotation by an Hermitian matrix applied on the top of the state $|0\\rangle$"
   ]
  },
  {
   "cell_type": "code",
   "execution_count": 1,
   "id": "6cd8c805",
   "metadata": {},
   "outputs": [
    {
     "name": "stdout",
     "output_type": "stream",
     "text": [
      "[ 0.06868925-0.6977414j  -0.56473308+0.43533352j]\n"
     ]
    }
   ],
   "source": [
    "import numpy as np\n",
    "import scipy.linalg as LA\n",
    "ham =np.random.rand(2,2)+1j*np.random.rand(2,2)\n",
    "\n",
    "ham =ham +ham.T.conj()\n",
    "\n",
    "phi = np.zeros(2)+1j*np.zeros(2)\n",
    "phi[0]=1.\n",
    "\n",
    "phi = LA.expm(-1j*ham)@phi\n",
    "LA.norm(phi)\n",
    "print(phi)\n",
    "\n",
    "\n"
   ]
  },
  {
   "cell_type": "markdown",
   "id": "819dcd04",
   "metadata": {},
   "source": [
    "Now given the product state we need a function that computes the energy"
   ]
  },
  {
   "cell_type": "code",
   "execution_count": 2,
   "id": "c988644f",
   "metadata": {},
   "outputs": [
    {
     "name": "stdout",
     "output_type": "stream",
     "text": [
      "-0.4710259437281664\n"
     ]
    }
   ],
   "source": [
    "def compute_energy(h_two_body,prod_state):\n",
    "    einsum_path_s =['einsum_path', (0, 4), (0, 3), (0, 2), (0, 1)]\n",
    "    energy = np.einsum('i,j,k,l,ijkl',prod_state,prod_state,prod_state.conj(),prod_state.conj(),h_two_body,\n",
    "                       optimize=einsum_path_s)\n",
    "    return energy\n",
    "\n",
    "identity = np.eye(2)\n",
    "v_lambda =0.1\n",
    "\n",
    "def build_and_diagonalize_H(N,v_lambda):\n",
    "    identity = np.eye(2)\n",
    "    sigma_x = np.array([[0.,1.],[1.,0.]])\n",
    "    sigma_z = np.array([[1.,0.],[0.,-1.]])\n",
    "    H = -np.kron(sigma_x,sigma_x) + v_lambda*(np.kron(identity,sigma_z)+  np.kron(sigma_z,identity))\n",
    "    for n in range(3,N+1):\n",
    "        H = np.kron(H,np.eye(2)) + np.kron(np.eye(2**(n-2)),-np.kron(sigma_x,sigma_x)) + (\n",
    "        v_lambda*(np.kron(np.eye(2**(n-1)),sigma_z)))\n",
    "                                                                                                                                                  \n",
    "    H = H -np.kron(sigma_x, np.kron(np.eye(2**(N-2)),sigma_x))\n",
    "    eig_H,U_H =LA.eigh(H)\n",
    "    return H, eig_H, U_H\n",
    "\n",
    "def build_H2(v_lambda):\n",
    "\n",
    "    sigma_x = np.array([[0.,1.],[1.,0.]])\n",
    "    sigma_y = np.array([[0.,-1.j],[1.j,0.]])\n",
    "    sigma_z = np.array([[1.,0.],[0.,-1.]])\n",
    "    H = -np.kron(sigma_x,sigma_x) + v_lambda/2*(np.kron(identity,sigma_z)+  np.kron(sigma_z,identity))\n",
    "    energies,_=LA.eigh(H)\n",
    "\n",
    "    H = H.reshape(2,2,2,2)\n",
    "    return energies[0],H\n",
    "\n",
    "gs_energy,H = build_H2(v_lambda)\n",
    "energy =np.real_if_close(compute_energy(H,phi))\n",
    "print(energy)\n"
   ]
  },
  {
   "cell_type": "markdown",
   "id": "1bd2b560",
   "metadata": {},
   "source": [
    "We now are almost there, we can define a function that given the correct number of parameters builds the correct state and returns the energy. Since the operator is Hermitian, we only need 6 real parameters,"
   ]
  },
  {
   "cell_type": "code",
   "execution_count": 3,
   "id": "35c51c9e",
   "metadata": {},
   "outputs": [],
   "source": [
    "def construct_state_and_compute_energy(x,ham_two_body):\n",
    "    herm_operator = np.zeros((2, 2), dtype=complex)\n",
    "    herm_operator[0,0] = x[0]\n",
    "    herm_operator[1,1] = x[1]\n",
    "    herm_operator[1,0] = x[2]+1j*x[3]\n",
    "    herm_operator[0,1] = x[2]-1j*x[3]\n",
    "    phi = np.zeros(2,dtype=complex)\n",
    "    phi[0]=1.\n",
    "    phi = LA.expm(-1j*herm_operator)@phi\n",
    "    energy = np.real_if_close(compute_energy(ham_two_body,phi))\n",
    "    return energy"
   ]
  },
  {
   "cell_type": "code",
   "execution_count": 4,
   "id": "51031d4d",
   "metadata": {},
   "outputs": [
    {
     "name": "stdout",
     "output_type": "stream",
     "text": [
      "0.08000121835830945\n"
     ]
    }
   ],
   "source": [
    "x = np.random.rand(6)\n",
    "energy = construct_state_and_compute_energy(x,H)\n",
    "print(energy)"
   ]
  },
  {
   "cell_type": "markdown",
   "id": "1a50bdec",
   "metadata": {},
   "source": [
    "Now let's try to optimize the energy in such a way that we get the lowest possible value on our ansatz of product state. Compute the energy as a function of the external field for say 20 points in the interval $\\lambda \\in \\{0,2\\}$, set $N=10$ to start with "
   ]
  },
  {
   "cell_type": "code",
   "execution_count": 28,
   "id": "287f5087",
   "metadata": {},
   "outputs": [
    {
     "name": "stdout",
     "output_type": "stream",
     "text": [
      "0.0\n",
      "Energy product state\n",
      "-9.999999999999204\n",
      "Exact energy\n",
      "-10.000000000000004\n",
      "Local error\n",
      "9.000000000000083\n",
      "Global error\n",
      "7.993605777301127e-13\n",
      "0.10526315789473684\n",
      "Energy product state\n",
      "-10.027700823809955\n",
      "Exact energy\n",
      "-10.027720067827618\n",
      "Local error\n",
      "9.024949985446622\n",
      "Global error\n",
      "1.9244017662956026e-05\n",
      "0.21052631578947367\n",
      "Energy product state\n",
      "-10.110803323851707\n",
      "Exact energy\n",
      "-10.11111375075016\n",
      "Local error\n",
      "9.10003341836499\n",
      "Global error\n",
      "0.0003104268984532865\n",
      "0.3157894736842105\n",
      "Energy product state\n",
      "-10.24930747914079\n",
      "Exact energy\n",
      "-10.250903409259676\n",
      "Local error\n",
      "9.225972661345597\n",
      "Global error\n",
      "0.0015959301188868125\n",
      "0.42105263157894735\n",
      "Energy product state\n",
      "-10.443213296398184\n",
      "Exact energy\n",
      "-10.448388324945642\n",
      "Local error\n",
      "9.404066995305824\n",
      "Global error\n",
      "0.005175028547457217\n",
      "0.5263157894736842\n",
      "Energy product state\n",
      "-10.692520775622976\n",
      "Exact energy\n",
      "-10.705708711084627\n",
      "Local error\n",
      "9.636456633522329\n",
      "Global error\n",
      "0.013187935461651534\n",
      "0.631578947368421\n",
      "Energy product state\n",
      "-10.997229916895325\n",
      "Exact energy\n",
      "-11.026565995955048\n",
      "Local error\n",
      "9.926843004265516\n",
      "Global error\n",
      "0.02933607905972302\n",
      "0.7368421052631579\n",
      "Energy product state\n",
      "-11.35734072022105\n",
      "Exact energy\n",
      "-11.417766269708144\n",
      "Local error\n",
      "10.28203219768604\n",
      "Global error\n",
      "0.06042554948709444\n",
      "0.8421052631578947\n",
      "Energy product state\n",
      "-11.772853185590012\n",
      "Exact energy\n",
      "-11.891074976263715\n",
      "Local error\n",
      "10.713789657704714\n",
      "Global error\n",
      "0.11822179067370264\n",
      "0.9473684210526315\n",
      "Energy product state\n",
      "-12.243767312975102\n",
      "Exact energy\n",
      "-12.461124133096204\n",
      "Local error\n",
      "11.236747401798693\n",
      "Global error\n",
      "0.21735682012110225\n",
      "1.0526315789473684\n",
      "Energy product state\n",
      "-12.770083102492812\n",
      "Exact energy\n",
      "-13.133370723532952\n",
      "Local error\n",
      "11.856362413283671\n",
      "Global error\n",
      "0.3632876210401399\n",
      "1.1578947368421053\n",
      "Energy product state\n",
      "-13.351800554009316\n",
      "Exact energy\n",
      "-13.894022385520612\n",
      "Local error\n",
      "12.558842330119681\n",
      "Global error\n",
      "0.5422218315112968\n",
      "1.263157894736842\n",
      "Energy product state\n",
      "-13.988919667588506\n",
      "Exact energy\n",
      "-14.719689543045265\n",
      "Local error\n",
      "13.320797576286413\n",
      "Global error\n",
      "0.7307698754567582\n",
      "1.3684210526315788\n",
      "Energy product state\n",
      "-14.6814404432128\n",
      "Exact energy\n",
      "-15.590562284940384\n",
      "Local error\n",
      "14.122418240619105\n",
      "Global error\n",
      "0.9091218417275844\n",
      "1.4736842105263157\n",
      "Energy product state\n",
      "-15.429362880886266\n",
      "Exact energy\n",
      "-16.49339155432018\n",
      "Local error\n",
      "14.950455266231554\n",
      "Global error\n",
      "1.0640286734339135\n",
      "1.5789473684210527\n",
      "Energy product state\n",
      "-16.232686978991232\n",
      "Exact energy\n",
      "-17.4197124061285\n",
      "Local error\n",
      "15.796443708229377\n",
      "Global error\n",
      "1.187025427137268\n",
      "1.6842105263157894\n",
      "Energy product state\n",
      "-17.091412742285538\n",
      "Exact energy\n",
      "-18.363967648562326\n",
      "Local error\n",
      "16.654826374333773\n",
      "Global error\n",
      "1.2725549062767882\n",
      "1.789473684210526\n",
      "Energy product state\n",
      "-18.005540166204874\n",
      "Exact energy\n",
      "-19.322341302578973\n",
      "Local error\n",
      "17.521787285958485\n",
      "Global error\n",
      "1.3168011363740995\n",
      "1.894736842105263\n",
      "Energy product state\n",
      "-18.975069251693526\n",
      "Exact energy\n",
      "-20.292098618265964\n",
      "Local error\n",
      "18.39459169309661\n",
      "Global error\n",
      "1.317029366572438\n",
      "2.0\n",
      "Energy product state\n",
      "-19.99999999935222\n",
      "Exact energy\n",
      "-21.271208818695943\n",
      "Local error\n",
      "19.27120881876072\n",
      "Global error\n",
      "1.2712088193437232\n"
     ]
    }
   ],
   "source": [
    "import scipy.optimize as opt\n",
    "from functools import partial\n",
    "options={'disp':False}\n",
    "N =10\n",
    "list_energies=[]\n",
    "list_var_energies=[]\n",
    "list_local_energies=[]\n",
    "list_error=[]\n",
    "list_local_error =[]\n",
    "for v_lambda in  np.linspace(0,2,20): \n",
    "    print(v_lambda)\n",
    "    gs_energy,H2 = build_H2(v_lambda)\n",
    "    H,eig_H,U_H =build_and_diagonalize_H(N,v_lambda)\n",
    "    energy_fixed_H = partial(construct_state_and_compute_energy,ham_two_body=H2)\n",
    "    res = opt.minimize(energy_fixed_H, x, method='BFGS',options=options)\n",
    "    print('Energy product state')\n",
    "    print(res.fun*N)\n",
    "    list_var_energies.append(res.fun*(N))\n",
    "    print('Exact energy')\n",
    "    print(eig_H[0])\n",
    "    list_energies.append(eig_H[0])\n",
    "    print('Local error')\n",
    "    delta_E2 =-eig_H[0]+res.fun\n",
    "    list_local_energies.append(eig_H[0])\n",
    "    list_local_error.append(delta_E2)\n",
    "    print(delta_E2)\n",
    "    delta_E = -eig_H[0]+res.fun*N\n",
    "    print('Global error')\n",
    "    list_error.append(delta_E)\n",
    "    print(delta_E)\n",
    "    \n",
    "\n",
    "    "
   ]
  },
  {
   "cell_type": "markdown",
   "id": "9cc05c3f",
   "metadata": {},
   "source": [
    "## Understanding the results\n",
    "We can now plot the resulting energies. It is interesting to see that while the real energy depends on $N$ in a non-trivial way (you can check that it goes like $E = e_0 N -e_1/N +\\cdots $ the dependence of the energy on $N$ for a product state is trivially $E_p =e_{p0} N$ and there are no further corrections...\n",
    "We start by plottingh the exact energies and the variational one on the same plot, for various $\\lambda$"
   ]
  },
  {
   "cell_type": "code",
   "execution_count": 12,
   "id": "5223087c",
   "metadata": {},
   "outputs": [
    {
     "data": {
      "text/plain": [
       "<matplotlib.legend.Legend at 0x7ff4989cb730>"
      ]
     },
     "execution_count": 12,
     "metadata": {},
     "output_type": "execute_result"
    },
    {
     "data": {
      "image/png": "[encoded data removed]",
      "text/plain": [
       "<Figure size 640x480 with 1 Axes>"
      ]
     },
     "metadata": {},
     "output_type": "display_data"
    }
   ],
   "source": [
    "import matplotlib.pyplot as plt\n",
    "plt.plot(np.linspace(0,2,20),list_energies, label ='Exact energies')\n",
    "plt.plot(np.linspace(0,2,20),list_var_energies,label ='Varitional energies')\n",
    "plt.xlabel('$\\lambda$')\n",
    "plt.grid()\n",
    "plt.ylabel('E_0')\n",
    "plt.legend()"
   ]
  },
  {
   "cell_type": "markdown",
   "id": "b32a4403",
   "metadata": {},
   "source": [
    "Now let's check their difference"
   ]
  },
  {
   "cell_type": "code",
   "execution_count": 15,
   "id": "f15e7c2b",
   "metadata": {},
   "outputs": [
    {
     "data": {
      "text/plain": [
       "<matplotlib.legend.Legend at 0x7ff4982f1490>"
      ]
     },
     "execution_count": 15,
     "metadata": {},
     "output_type": "execute_result"
    },
    {
     "data": {
      "image/png": "[encoded data removed]",
      "text/plain": [
       "<Figure size 640x480 with 1 Axes>"
      ]
     },
     "metadata": {},
     "output_type": "display_data"
    }
   ],
   "source": [
    "plt.plot(np.linspace(0,2,20),list_error, label='$\\Delta E$')\n",
    "plt.xlabel('$\\lambda$')\n",
    "plt.ylabel('$\\Delta E$')\n",
    "plt.grid()\n",
    "plt.legend()"
   ]
  },
  {
   "cell_type": "markdown",
   "id": "7b9c0d0b",
   "metadata": {},
   "source": [
    "Now let's consider correlations. Focus of simplicity on $\\lambda =1$.First let's compute in the exact state\n",
    "\n",
    "$$ cO(i,j) =\\langle O_i O_j \\rangle -\\langle O_i \\rangle \\langle O_j \\rangle $$.\n",
    "Notice that the only relevant thing is $|i-j|$ due to the translational invariance property of the problem \n"
   ]
  },
  {
   "cell_type": "code",
   "execution_count": 76,
   "id": "918904c6",
   "metadata": {},
   "outputs": [],
   "source": [
    "def compute_magnetization(operator,state,N):\n",
    "                glob_op_disc = np.kron(operator,np.eye(2**(N-1)))\n",
    "                disconnected = state@glob_op_disc@state.T.conj()\n",
    "                return disconnected\n",
    "\n",
    "\n",
    "def compute_exact_two_b_corr(operator, state,N):\n",
    "        c_i_j =[]\n",
    "        distanza = []\n",
    "        distanza.append(0)\n",
    "        global_operator =np.kron(np.kron(operator,operator),np.eye(2**(N-2)))\n",
    "        disconnected = state@global_operator@state.T.conj()\n",
    "        glob_op_disc = np.kron(operator,np.eye(2**(N-1)))\n",
    "        one_body = state@glob_op_disc@state.T.conj()\n",
    "        c_i_j.append(disconnected-one_body**2)\n",
    "\n",
    "        for j in range(1,N-1):\n",
    "                #print(j)\n",
    "                other_sep =N-2-j\n",
    "                #print(other_sep)\n",
    "                o_i_j= np.kron(operator,np.eye(2**j))\n",
    "                o_i_j_o =np.kron(o_i_j,operator)\n",
    "                global_op = np.kron(o_i_j_o,np.eye(2**other_sep))\n",
    "                disconnected = state@global_op@state.T.conj()\n",
    "                connected = disconnected-one_body**2 \n",
    "                c_i_j.append(connected)                         \n",
    "                #distanza.append(np.min([j,other_sep])) \n",
    "                distanza.append(j)\n",
    "                \n",
    "        return  c_i_j,distanza\n",
    "    \n",
    "    "
   ]
  },
  {
   "cell_type": "code",
   "execution_count": 77,
   "id": "bad55794",
   "metadata": {},
   "outputs": [
    {
     "name": "stdout",
     "output_type": "stream",
     "text": [
      "-12.784906442999318\n",
      "-12.784906442999324\n",
      "-1.0583963033224086e-16\n"
     ]
    },
    {
     "data": {
      "text/plain": [
       "<matplotlib.legend.Legend at 0x7ff471f0b850>"
      ]
     },
     "execution_count": 77,
     "metadata": {},
     "output_type": "execute_result"
    },
    {
     "data": {
      "image/png": "[encoded data removed]",
      "text/plain": [
       "<Figure size 640x480 with 1 Axes>"
      ]
     },
     "metadata": {},
     "output_type": "display_data"
    }
   ],
   "source": [
    "sigma_x = np.array([[0.,1.],[1.,0.]])\n",
    "sigma_y = np.array([[0.,-1.j],[1.j,0.]])\n",
    "sigma_z = np.array([[1.,0.],[0.,-1.]])\n",
    "H,eig_H,U_H =build_and_diagonalize_H(N,1.)\n",
    "\n",
    "ground_state =U_H[:,0]\n",
    "energy = ground_state.T.conj()@H@ground_state\n",
    "print(energy)\n",
    "print(eig_H[0])\n",
    "print(compute_magnetization(sigma_x,ground_state,N))\n",
    "cx_i_j,distanza = compute_exact_two_b_corr(sigma_x,ground_state,N)\n",
    "\n",
    "plt.plot(distanza,cx_i_j,label ='XX')\n",
    "plt.xlabel('|i-j|')\n",
    "plt.ylabel('cX(i,j)')\n",
    "plt.grid()\n",
    "plt.legend()"
   ]
  },
  {
   "cell_type": "markdown",
   "id": "63b6dab8",
   "metadata": {},
   "source": [
    "What do you expect it to be in a product state?"
   ]
  },
  {
   "cell_type": "code",
   "execution_count": 23,
   "id": "eab064f5",
   "metadata": {},
   "outputs": [
    {
     "data": {
      "text/plain": [
       "134087.33673974243"
      ]
     },
     "execution_count": 23,
     "metadata": {},
     "output_type": "execute_result"
    }
   ],
   "source": []
  },
  {
   "cell_type": "code",
   "execution_count": null,
   "id": "e48194ee",
   "metadata": {},
   "outputs": [],
   "source": []
  }
 ],
 "metadata": {
  "kernelspec": {
   "display_name": "Python 3 (ipykernel)",
   "language": "python",
   "name": "python3"
  },
  "language_info": {
   "codemirror_mode": {
    "name": "ipython",
    "version": 3
   },
   "file_extension": ".py",
   "mimetype": "text/x-python",
   "name": "python",
   "nbconvert_exporter": "python",
   "pygments_lexer": "ipython3",
   "version": "3.9.13"
  }
 },
 "nbformat": 4,
 "nbformat_minor": 5
}
